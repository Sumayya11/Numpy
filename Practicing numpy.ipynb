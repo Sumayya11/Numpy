{
 "cells": [
  {
   "cell_type": "markdown",
   "id": "18566c7b",
   "metadata": {},
   "source": [
    "Importing Numpy"
   ]
  },
  {
   "cell_type": "code",
   "execution_count": 2,
   "id": "7f8df077",
   "metadata": {},
   "outputs": [],
   "source": [
    "import numpy as np"
   ]
  },
  {
   "cell_type": "markdown",
   "id": "7d00bdb2",
   "metadata": {},
   "source": [
    "Checking numpy version and configuration"
   ]
  },
  {
   "cell_type": "code",
   "execution_count": null,
   "id": "4bb0236c",
   "metadata": {},
   "outputs": [],
   "source": [
    "print(np.__version__)\n",
    "np.show_config()"
   ]
  },
  {
   "cell_type": "markdown",
   "id": "ea37105b",
   "metadata": {},
   "source": [
    "Creating null vector of size 10"
   ]
  },
  {
   "cell_type": "code",
   "execution_count": 3,
   "id": "de61fa18",
   "metadata": {},
   "outputs": [
    {
     "name": "stdout",
     "output_type": "stream",
     "text": [
      "[0. 0. 0. 0. 0. 0. 0. 0. 0. 0.]\n"
     ]
    }
   ],
   "source": [
    "n = np.zeros(10)\n",
    "print(n)"
   ]
  },
  {
   "cell_type": "markdown",
   "id": "744bec8c",
   "metadata": {},
   "source": [
    "Create a null vector of size 10 but the fifth value which is 1"
   ]
  },
  {
   "cell_type": "code",
   "execution_count": 5,
   "id": "a6d31710",
   "metadata": {},
   "outputs": [
    {
     "name": "stdout",
     "output_type": "stream",
     "text": [
      "[0. 0. 0. 0. 1. 0. 0. 0. 0. 0.]\n"
     ]
    }
   ],
   "source": [
    "n = np.zeros(10)\n",
    "n[4] = 1\n",
    "print(n)"
   ]
  },
  {
   "cell_type": "markdown",
   "id": "d57dae1d",
   "metadata": {},
   "source": [
    "Create a vector with values ranging from 10 to 49"
   ]
  },
  {
   "cell_type": "code",
   "execution_count": 6,
   "id": "608d0622",
   "metadata": {},
   "outputs": [
    {
     "name": "stdout",
     "output_type": "stream",
     "text": [
      "[10 11 12 13 14 15 16 17 18 19 20 21 22 23 24 25 26 27 28 29 30 31 32 33\n",
      " 34 35 36 37 38 39 40 41 42 43 44 45 46 47 48 49]\n"
     ]
    }
   ],
   "source": [
    "a = np.arange(10,50)\n",
    "print(a)"
   ]
  },
  {
   "cell_type": "markdown",
   "id": "ba74a7aa",
   "metadata": {},
   "source": [
    "Reverse a vector (first element becomes last)"
   ]
  },
  {
   "cell_type": "code",
   "execution_count": 11,
   "id": "bb09bc27",
   "metadata": {},
   "outputs": [
    {
     "name": "stdout",
     "output_type": "stream",
     "text": [
      "Original:  [ 0  1  2  3  4  5  6  7  8  9 10 11 12 13 14 15 16 17 18 19]\n",
      "Reverse:  [19 18 17 16 15 14 13 12 11 10  9  8  7  6  5  4  3  2  1  0]\n"
     ]
    }
   ],
   "source": [
    "r = np.arange(20)\n",
    "print(\"Original: \",r)\n",
    "r= r[::-1]\n",
    "print('Reverse: ',r)"
   ]
  },
  {
   "cell_type": "markdown",
   "id": "06a2cece",
   "metadata": {},
   "source": [
    "Create a 3x3 matrix with values ranging from 0 to 8"
   ]
  },
  {
   "cell_type": "code",
   "execution_count": 12,
   "id": "b8584568",
   "metadata": {},
   "outputs": [
    {
     "name": "stdout",
     "output_type": "stream",
     "text": [
      "[[0 1 2]\n",
      " [3 4 5]\n",
      " [6 7 8]]\n"
     ]
    }
   ],
   "source": [
    "a = np.arange(9).reshape(3,3)\n",
    "print(a)"
   ]
  },
  {
   "cell_type": "markdown",
   "id": "bca90b62",
   "metadata": {},
   "source": [
    "9. Find indices of non­zero elements from [1,2,0,0,4,0]"
   ]
  },
  {
   "cell_type": "code",
   "execution_count": 13,
   "id": "d8dde644",
   "metadata": {},
   "outputs": [
    {
     "name": "stdout",
     "output_type": "stream",
     "text": [
      "(array([0, 1, 4], dtype=int64),)\n"
     ]
    }
   ],
   "source": [
    "nz = np.nonzero([1,2,0,0,4,0])\n",
    "print(nz)"
   ]
  },
  {
   "cell_type": "markdown",
   "id": "b3ae1c9b",
   "metadata": {},
   "source": [
    "10. Create a 3x3 identity matrix"
   ]
  },
  {
   "cell_type": "code",
   "execution_count": 14,
   "id": "b73946f2",
   "metadata": {},
   "outputs": [
    {
     "name": "stdout",
     "output_type": "stream",
     "text": [
      "[[1. 0. 0.]\n",
      " [0. 1. 0.]\n",
      " [0. 0. 1.]]\n"
     ]
    }
   ],
   "source": [
    "i = np.eye(3)\n",
    "print(i)"
   ]
  },
  {
   "cell_type": "markdown",
   "id": "5ad729c3",
   "metadata": {},
   "source": [
    "Create a 3x3x3 array with random values"
   ]
  },
  {
   "cell_type": "code",
   "execution_count": 17,
   "id": "bd94b070",
   "metadata": {},
   "outputs": [
    {
     "name": "stdout",
     "output_type": "stream",
     "text": [
      "[[[0.21372228 0.66623143 0.4672544 ]\n",
      "  [0.70026123 0.60767743 0.8249298 ]\n",
      "  [0.4604358  0.38536196 0.64892549]]\n",
      "\n",
      " [[0.97432697 0.00633154 0.0622781 ]\n",
      "  [0.05162091 0.47922388 0.29882478]\n",
      "  [0.63167643 0.92035249 0.16149025]]\n",
      "\n",
      " [[0.86124725 0.83727132 0.06612609]\n",
      "  [0.11005147 0.14708561 0.11010491]\n",
      "  [0.4472167  0.5636747  0.72306408]]]\n"
     ]
    }
   ],
   "source": [
    "ra = np.random.random((3,3,3))\n",
    "print(ra)"
   ]
  },
  {
   "cell_type": "markdown",
   "id": "6032f8d4",
   "metadata": {},
   "source": [
    "12. Create a 10x10 array with random values and find the minimum and maximum\n",
    "values"
   ]
  },
  {
   "cell_type": "code",
   "execution_count": 21,
   "id": "312dbcde",
   "metadata": {},
   "outputs": [
    {
     "name": "stdout",
     "output_type": "stream",
     "text": [
      "[[6.39666200e-01 9.75397020e-01 2.32572150e-01 2.89163267e-01\n",
      "  7.62611574e-01 9.22998688e-01 6.33380059e-01 6.71125227e-01\n",
      "  2.47996360e-01 9.03934345e-01]\n",
      " [1.68002073e-01 4.26364925e-01 2.34358943e-01 4.43140507e-01\n",
      "  1.10539078e-01 1.12327448e-01 8.44603479e-01 1.69061519e-01\n",
      "  5.96986288e-01 4.60809381e-02]\n",
      " [9.33077770e-02 8.29867858e-01 8.98705646e-02 9.99457291e-01\n",
      "  4.11488053e-02 3.24964516e-01 6.47299751e-01 2.98562605e-01\n",
      "  4.68942128e-01 5.03595766e-01]\n",
      " [5.81024217e-01 2.66485013e-01 6.25860150e-01 2.70697057e-01\n",
      "  3.43508760e-01 2.75959731e-01 3.04555512e-02 7.23226900e-01\n",
      "  2.26317943e-01 3.58706887e-01]\n",
      " [3.42134122e-01 5.42759954e-01 4.13416677e-04 8.85760698e-01\n",
      "  4.69493846e-01 8.50696925e-01 7.94441081e-01 8.12708102e-01\n",
      "  2.06463607e-01 3.52472023e-01]\n",
      " [4.37670282e-01 3.15507881e-03 7.18159410e-01 6.93530193e-01\n",
      "  5.85813529e-02 2.92894712e-01 5.60265626e-01 5.18024111e-01\n",
      "  3.08314204e-01 7.73666749e-01]\n",
      " [6.45461204e-01 6.99718356e-01 6.93035494e-01 7.92549178e-03\n",
      "  1.51907675e-01 4.80492904e-01 6.84499131e-01 4.12729458e-01\n",
      "  7.85449647e-01 2.06545004e-01]\n",
      " [2.68178237e-01 7.77234019e-01 1.85688813e-01 2.76014643e-01\n",
      "  3.04001063e-02 9.42221867e-01 1.89909290e-01 7.98457436e-01\n",
      "  2.29323849e-01 6.43710258e-01]\n",
      " [7.33264100e-01 5.74910568e-01 4.03248418e-02 7.81451055e-01\n",
      "  5.70575910e-01 9.28157359e-01 6.56299201e-01 5.04291572e-01\n",
      "  4.29784914e-01 2.99414809e-01]\n",
      " [6.80541968e-01 6.00385918e-01 9.14744751e-01 7.38352183e-01\n",
      "  6.99731265e-02 6.30669226e-01 2.84844615e-01 8.16009478e-01\n",
      "  1.90761688e-01 7.05857395e-01]]\n",
      "\n",
      "Minimum value 0.0004134166765575875\n",
      "Maximum value 0.9994572910255602\n"
     ]
    }
   ],
   "source": [
    "x = np.random.random((10,10))\n",
    "print(x)\n",
    "print()\n",
    "print(\"Minimum value\",x.min())\n",
    "print(\"Maximum value\",x.max())"
   ]
  },
  {
   "cell_type": "markdown",
   "id": "15474e9f",
   "metadata": {},
   "source": [
    "Create a random vector of size 30 and find the mean value"
   ]
  },
  {
   "cell_type": "code",
   "execution_count": 26,
   "id": "c02678cd",
   "metadata": {},
   "outputs": [
    {
     "name": "stdout",
     "output_type": "stream",
     "text": [
      "[0.31047844 0.20399287 0.57216548 0.19330411 0.28564071 0.26540972\n",
      " 0.54910747 0.39160636 0.4165427  0.71121063 0.32549852 0.30238773\n",
      " 0.29312849 0.2533672  0.65219148 0.02290481 0.14945762 0.18598389\n",
      " 0.33970478 0.99783965 0.13140459 0.11838395 0.77280315 0.56785526\n",
      " 0.00118844 0.03367874 0.98238626 0.64460433 0.0218797  0.76242076]\n",
      "\n",
      "Mean 0.3819509283789542\n"
     ]
    }
   ],
   "source": [
    "b = np.random.random(30)\n",
    "print(b)\n",
    "print()\n",
    "print(\"Mean\",b.mean())"
   ]
  },
  {
   "cell_type": "markdown",
   "id": "74937c03",
   "metadata": {},
   "source": [
    "14. Create a 2d array with 1 on the border and 0 inside"
   ]
  },
  {
   "cell_type": "code",
   "execution_count": 37,
   "id": "84845598",
   "metadata": {},
   "outputs": [
    {
     "name": "stdout",
     "output_type": "stream",
     "text": [
      "[[1. 1. 1. 1. 1. 1. 1. 1. 1. 1.]\n",
      " [1. 1. 1. 1. 1. 1. 1. 1. 1. 1.]\n",
      " [1. 1. 1. 1. 1. 1. 1. 1. 1. 1.]\n",
      " [1. 1. 1. 1. 1. 1. 1. 1. 1. 1.]\n",
      " [1. 1. 1. 1. 1. 1. 1. 1. 1. 1.]\n",
      " [1. 1. 1. 1. 1. 1. 1. 1. 1. 1.]\n",
      " [1. 1. 1. 1. 1. 1. 1. 1. 1. 1.]\n",
      " [1. 1. 1. 1. 1. 1. 1. 1. 1. 1.]\n",
      " [1. 1. 1. 1. 1. 1. 1. 1. 1. 1.]\n",
      " [1. 1. 1. 1. 1. 1. 1. 1. 1. 1.]]\n",
      "[[1. 1. 1. 1. 1. 1. 1. 1. 1. 1.]\n",
      " [1. 0. 0. 0. 0. 0. 0. 0. 0. 1.]\n",
      " [1. 0. 0. 0. 0. 0. 0. 0. 0. 1.]\n",
      " [1. 0. 0. 0. 0. 0. 0. 0. 0. 1.]\n",
      " [1. 0. 0. 0. 0. 0. 0. 0. 0. 1.]\n",
      " [1. 0. 0. 0. 0. 0. 0. 0. 0. 1.]\n",
      " [1. 0. 0. 0. 0. 0. 0. 0. 0. 1.]\n",
      " [1. 0. 0. 0. 0. 0. 0. 0. 0. 1.]\n",
      " [1. 0. 0. 0. 0. 0. 0. 0. 0. 1.]\n",
      " [1. 1. 1. 1. 1. 1. 1. 1. 1. 1.]]\n"
     ]
    }
   ],
   "source": [
    "x = np.ones((10,10))\n",
    "print(x)\n",
    "x[1:-1,1:-1] = 0\n",
    "print(x)"
   ]
  },
  {
   "cell_type": "code",
   "execution_count": 46,
   "id": "bb39d246",
   "metadata": {},
   "outputs": [
    {
     "data": {
      "text/plain": [
       "inf"
      ]
     },
     "execution_count": 46,
     "metadata": {},
     "output_type": "execute_result"
    }
   ],
   "source": [
    "# #0 * np.nan\n",
    "# #np.nan == np.nan\n",
    "# np.inf > np.nan\n",
    "# np.nan - np.nan\n",
    "# 0.3 == 3 * 0.1\n",
    "np.inf*2"
   ]
  },
  {
   "cell_type": "markdown",
   "id": "8688a7e5",
   "metadata": {},
   "source": [
    "16. Create a 5x5 matrix with values 1,2,3,4 just below the diagonal"
   ]
  },
  {
   "cell_type": "code",
   "execution_count": 59,
   "id": "47de009c",
   "metadata": {},
   "outputs": [
    {
     "name": "stdout",
     "output_type": "stream",
     "text": [
      "[[0 0 0 0 0]\n",
      " [1 0 0 0 0]\n",
      " [0 2 0 0 0]\n",
      " [0 0 3 0 0]\n",
      " [0 0 0 4 0]]\n"
     ]
    }
   ],
   "source": [
    "x = np.diag(1+np.arange(4),k=-1)\n",
    "print(x)\n",
    "# y = np.diag(x,k=-1)\n",
    "# print(y)"
   ]
  },
  {
   "cell_type": "markdown",
   "id": "df416937",
   "metadata": {},
   "source": [
    "17. Create a 8x8 matrix and fill it with a checkerboard pattern"
   ]
  },
  {
   "cell_type": "code",
   "execution_count": 65,
   "id": "d8e8bba6",
   "metadata": {},
   "outputs": [
    {
     "name": "stdout",
     "output_type": "stream",
     "text": [
      "[[0 1 0 1 0 1 0 1]\n",
      " [1 0 1 0 1 0 1 0]\n",
      " [0 1 0 1 0 1 0 1]\n",
      " [1 0 1 0 1 0 1 0]\n",
      " [0 1 0 1 0 1 0 1]\n",
      " [1 0 1 0 1 0 1 0]\n",
      " [0 1 0 1 0 1 0 1]\n",
      " [1 0 1 0 1 0 1 0]]\n"
     ]
    }
   ],
   "source": [
    "a = np.zeros((8,8), dtype = int)\n",
    "#print(a)\n",
    "a[1::2,::2] = 1\n",
    "a[::2,1::2] = 1\n",
    "print(a)"
   ]
  },
  {
   "cell_type": "markdown",
   "id": "8b32adbd",
   "metadata": {},
   "source": [
    "Create a 5x5 matrix with row values ranging from 0 to 4"
   ]
  },
  {
   "cell_type": "code",
   "execution_count": 16,
   "id": "f29467af",
   "metadata": {},
   "outputs": [
    {
     "name": "stdout",
     "output_type": "stream",
     "text": [
      "[[0. 0. 0. 0. 0.]\n",
      " [0. 0. 0. 0. 0.]\n",
      " [0. 0. 0. 0. 0.]\n",
      " [0. 0. 0. 0. 0.]\n",
      " [0. 0. 0. 0. 0.]]\n",
      "[[0. 1. 2. 3. 4.]\n",
      " [0. 1. 2. 3. 4.]\n",
      " [0. 1. 2. 3. 4.]\n",
      " [0. 1. 2. 3. 4.]\n",
      " [0. 1. 2. 3. 4.]]\n"
     ]
    }
   ],
   "source": [
    "a = np.zeros(25).reshape(5,5)\n",
    "print(a)\n",
    "a += np.arange(5)\n",
    "print(a)"
   ]
  },
  {
   "cell_type": "markdown",
   "id": "837e7803",
   "metadata": {},
   "source": [
    "Create a random vector of size 10 and sort it "
   ]
  },
  {
   "cell_type": "code",
   "execution_count": 21,
   "id": "927f9a7b",
   "metadata": {},
   "outputs": [
    {
     "name": "stdout",
     "output_type": "stream",
     "text": [
      "Original:  [0.98910826 0.77265473 0.76408294 0.91531686 0.30413519 0.79581228\n",
      " 0.79676814 0.28443514 0.97596308 0.93609632]\n",
      "Sorted:  [0.28443514 0.30413519 0.76408294 0.77265473 0.79581228 0.79676814\n",
      " 0.91531686 0.93609632 0.97596308 0.98910826]\n"
     ]
    }
   ],
   "source": [
    "a = np.random.random(10)\n",
    "print(\"Original: \",a)\n",
    "b=np.sort(a)\n",
    "print(\"Sorted: \", b)"
   ]
  },
  {
   "cell_type": "markdown",
   "id": "0f49d309",
   "metadata": {},
   "source": [
    "Consider two random array A and B, check if they are equal"
   ]
  },
  {
   "cell_type": "code",
   "execution_count": 27,
   "id": "41602ab4",
   "metadata": {},
   "outputs": [
    {
     "name": "stdout",
     "output_type": "stream",
     "text": [
      "Array A:  [1 1 0 0 0 0]\n",
      "Array B:  [0 0 0 0 1 1]\n",
      "Are Equal:  False\n",
      "[False False  True  True False False]\n"
     ]
    }
   ],
   "source": [
    "a = np.random.randint(0,2,6)\n",
    "print(\"Array A: \",a)\n",
    "b = np.random.randint(0,2,6)\n",
    "print(\"Array B: \",b)\n",
    "c = np.allclose(a,b) #compare whole array\n",
    "d = np.isclose(a,b)  #compare each value\n",
    "print(\"Are Equal: \",c)\n",
    "print(d)"
   ]
  },
  {
   "cell_type": "code",
   "execution_count": null,
   "id": "465f05fb",
   "metadata": {},
   "outputs": [],
   "source": []
  }
 ],
 "metadata": {
  "kernelspec": {
   "display_name": "Python 3 (ipykernel)",
   "language": "python",
   "name": "python3"
  },
  "language_info": {
   "codemirror_mode": {
    "name": "ipython",
    "version": 3
   },
   "file_extension": ".py",
   "mimetype": "text/x-python",
   "name": "python",
   "nbconvert_exporter": "python",
   "pygments_lexer": "ipython3",
   "version": "3.9.7"
  }
 },
 "nbformat": 4,
 "nbformat_minor": 5
}
